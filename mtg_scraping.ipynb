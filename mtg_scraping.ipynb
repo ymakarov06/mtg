{
 "cells": [
  {
   "cell_type": "code",
   "execution_count": null,
   "metadata": {
    "scrolled": true
   },
   "outputs": [],
   "source": [
    "from selenium import webdriver\n",
    "from bs4 import BeautifulSoup\n",
    "import pandas as pd\n",
    "import time\n",
    "import sqlite3\n",
    "from selenium.webdriver.common.action_chains import ActionChains\n",
    "from webdriver_manager.chrome import ChromeDriverManager\n",
    "from selenium.common.exceptions import NoSuchElementException"
   ]
  },
  {
   "cell_type": "code",
   "execution_count": null,
   "metadata": {},
   "outputs": [],
   "source": [
    "cards = pd.read_csv('mythic.csv')\n",
    "names = list(cards['name'])\n",
    "links = list(cards['link'])"
   ]
  },
  {
   "cell_type": "code",
   "execution_count": null,
   "metadata": {},
   "outputs": [],
   "source": [
    "conn = sqlite3.connect('mtg.db')\n",
    "c = conn.cursor()\n",
    "# c.execute(\"DROP TABLE card_prices\")\n",
    "#c.execute('''CREATE TABLE card_prices (card text, price_obs text, UNIQUE(card, price_obs))''')\n",
    "#conn.commit()"
   ]
  },
  {
   "cell_type": "code",
   "execution_count": null,
   "metadata": {},
   "outputs": [],
   "source": [
    "driver = webdriver.Chrome(ChromeDriverManager().install())"
   ]
  },
  {
   "cell_type": "code",
   "execution_count": null,
   "metadata": {},
   "outputs": [],
   "source": [
    "def get_data(card, link):\n",
    "    driver.get(link)\n",
    "    time.sleep(20)\n",
    "    chart = driver.find_element_by_class_name('highcharts-plot-background')\n",
    "    chart.size['width']\n",
    "    results = []\n",
    "    h1 = chart.size['height'] - 20\n",
    "    h2 = h1 + 1\n",
    "    w = chart.size['width']\n",
    "    for i in range(0, w):\n",
    "        action = webdriver.common.action_chains.ActionChains(driver)\n",
    "        action.move_to_element_with_offset(chart, i, h1)\n",
    "        action.move_to_element_with_offset(chart, i, h2)\n",
    "        action.move_to_element_with_offset(chart, i, h1)\n",
    "        action.click()\n",
    "        action.perform()\n",
    "        soup = driver.page_source\n",
    "        soup = BeautifulSoup(soup)\n",
    "        soup = soup.find_all('tspan')\n",
    "        results_1 = []\n",
    "        for i in soup:\n",
    "            results_1.append(i.find(text = True))\n",
    "        results = str(results_1[0])\n",
    "        for i in results_1[1:]:\n",
    "            results = results + \"-\" + str(i)\n",
    "        input_list = [card, results]\n",
    "        input_list = tuple(input_list)\n",
    "        print(input_list)\n",
    "        c.execute('INSERT OR IGNORE INTO card_prices VALUES (?, ?)', input_list)\n",
    "        conn.commit()"
   ]
  },
  {
   "cell_type": "code",
   "execution_count": null,
   "metadata": {},
   "outputs": [],
   "source": [
    "for i in range(0, 1162):\n",
    "    card = names[i]\n",
    "    link = links[i]\n",
    "    get_data(card, link) "
   ]
  },
  {
   "cell_type": "code",
   "execution_count": null,
   "metadata": {},
   "outputs": [],
   "source": [
    "conn.close()"
   ]
  },
  {
   "cell_type": "code",
   "execution_count": null,
   "metadata": {},
   "outputs": [],
   "source": [
    "###END###"
   ]
  }
 ],
 "metadata": {
  "kernelspec": {
   "display_name": "Python 3",
   "language": "python",
   "name": "python3"
  },
  "language_info": {
   "codemirror_mode": {
    "name": "ipython",
    "version": 3
   },
   "file_extension": ".py",
   "mimetype": "text/x-python",
   "name": "python",
   "nbconvert_exporter": "python",
   "pygments_lexer": "ipython3",
   "version": "3.8.3"
  }
 },
 "nbformat": 4,
 "nbformat_minor": 2
}
